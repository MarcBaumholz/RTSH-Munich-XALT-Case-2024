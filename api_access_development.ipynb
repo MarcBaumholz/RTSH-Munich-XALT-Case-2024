{
 "cells": [
  {
   "cell_type": "code",
   "execution_count": null,
   "metadata": {},
   "outputs": [],
   "source": [
    "import requests\n",
    "from requests.auth import HTTPBasicAuth\n",
    "import json\n",
    "\n",
    "# Set up your credentials and base URL\n",
    "base_url = \"https://your-instance.atlassian.net\"\n",
    "email = \"your-email@example.com\"\n",
    "api_token = \"your-api-token\"\n",
    "\n",
    "# Authentication\n",
    "auth = HTTPBasicAuth(email, api_token)\n",
    "\n",
    "# Headers\n",
    "headers = {\n",
    "    \"Accept\": \"application/json\",\n",
    "    \"Content-Type\": \"application/json\"\n",
    "}\n",
    "\n",
    "# Example: Fetching an issue\n",
    "issue_key = \"TEST-123\"  # Replace with the actual issue key\n",
    "response = requests.get(\n",
    "    f\"{base_url}/rest/api/3/issue/{issue_key}\",\n",
    "    headers=headers,\n",
    "    auth=auth\n",
    ")\n",
    "\n",
    "if response.status_code == 200:\n",
    "    print(\"Issue Details:\", json.dumps(response.json(), indent=4))\n",
    "else:\n",
    "    print(f\"Failed to fetch issue: {response.status_code}, {response.text}\")\n",
    "\n",
    "# Example: Search issues with JQL\n",
    "jql_query = \"project = TEST\"  # Replace with your JQL query\n",
    "search_url = f\"{base_url}/rest/api/3/search\"\n",
    "search_params = {\"jql\": jql_query}\n",
    "\n",
    "response = requests.get(\n",
    "    search_url,\n",
    "    headers=headers,\n",
    "    params=search_params,\n",
    "    auth=auth\n",
    ")\n",
    "\n",
    "if response.status_code == 200:\n",
    "    print(\"Search Results:\", json.dumps(response.json(), indent=4))\n",
    "else:\n",
    "    print(f\"Failed to search issues: {response.status_code}, {response.text}\")\n"
   ]
  },
  {
   "cell_type": "code",
   "execution_count": null,
   "metadata": {},
   "outputs": [],
   "source": [
    "import yaml\n",
    "\n",
    "# Load a YAML file\n",
    "with open(\"config.yaml\", \"r\") as file:\n",
    "    config = yaml.safe_load(file)\n",
    "    print(config)\n",
    "\n",
    "# Save to a YAML file\n",
    "with open(\"output_config.yaml\", \"w\") as file:\n",
    "    yaml.dump(config, file)\n"
   ]
  },
  {
   "cell_type": "code",
   "execution_count": null,
   "metadata": {
    "vscode": {
     "languageId": "markdown"
    }
   },
   "outputs": [],
   "source": [
    "# generate me an api key access\n",
    "# https://id.atlassian.com/manage-profile/security/api-tokens\n",
    "# https://developer.atlassian.com/cloud/jira/platform/rest/v3/intro/\n"
   ]
  }
 ],
 "metadata": {
  "kernelspec": {
   "display_name": "base",
   "language": "python",
   "name": "python3"
  },
  "language_info": {
   "name": "python",
   "version": "3.11.5"
  }
 },
 "nbformat": 4,
 "nbformat_minor": 2
}
