{
 "cells": [
  {
   "cell_type": "code",
   "execution_count": null,
   "metadata": {
    "vscode": {
     "languageId": "markdown"
    }
   },
   "outputs": [
    {
     "data": {
      "text/html": [
       "<div>\n",
       "<style scoped>\n",
       "    .dataframe tbody tr th:only-of-type {\n",
       "        vertical-align: middle;\n",
       "    }\n",
       "\n",
       "    .dataframe tbody tr th {\n",
       "        vertical-align: top;\n",
       "    }\n",
       "\n",
       "    .dataframe thead th {\n",
       "        text-align: right;\n",
       "    }\n",
       "</style>\n",
       "<table border=\"1\" class=\"dataframe\">\n",
       "  <thead>\n",
       "    <tr style=\"text-align: right;\">\n",
       "      <th></th>\n",
       "      <th>Category</th>\n",
       "      <th>Siemens</th>\n",
       "      <th>Bosch</th>\n",
       "    </tr>\n",
       "  </thead>\n",
       "  <tbody>\n",
       "    <tr>\n",
       "      <th>0</th>\n",
       "      <td>Project URL</td>\n",
       "      <td>https://one-atlas-nicz.atlassian.net/jira/core...</td>\n",
       "      <td>https://one-atlas-bltk.atlassian.net/jira/core...</td>\n",
       "    </tr>\n",
       "    <tr>\n",
       "      <th>1</th>\n",
       "      <td>API Token</td>\n",
       "      <td>ATATT3xFfGF0tWh1moyTfavczRkYj25THqsKtsfsmMFsJm...</td>\n",
       "      <td>NaN</td>\n",
       "    </tr>\n",
       "    <tr>\n",
       "      <th>2</th>\n",
       "      <td>Username</td>\n",
       "      <td>marc.baumholz@startstuttgart.org</td>\n",
       "      <td>NaN</td>\n",
       "    </tr>\n",
       "  </tbody>\n",
       "</table>\n",
       "</div>"
      ],
      "text/plain": [
       "      Category                                            Siemens  \\\n",
       "0  Project URL  https://one-atlas-nicz.atlassian.net/jira/core...   \n",
       "1    API Token  ATATT3xFfGF0tWh1moyTfavczRkYj25THqsKtsfsmMFsJm...   \n",
       "2     Username                   marc.baumholz@startstuttgart.org   \n",
       "\n",
       "                                               Bosch  \n",
       "0  https://one-atlas-bltk.atlassian.net/jira/core...  \n",
       "1                                                NaN  \n",
       "2                                                NaN  "
      ]
     },
     "execution_count": 2,
     "metadata": {},
     "output_type": "execute_result"
    }
   ],
   "source": [
    "import pandas as pd\n",
    "import yaml\n",
    "df = pd.read_csv('./data/project_data.csv')\n",
    "df.head()"
   ]
  },
  {
   "cell_type": "code",
   "execution_count": null,
   "metadata": {
    "vscode": {
     "languageId": "markdown"
    }
   },
   "outputs": [],
   "source": [
    "# Extract data from the dataframe\n",
    "api_token = df.loc[df['Category'] == 'API Token', 'Siemens'].values[0]\n",
    "username = df.loc[df['Category'] == 'Username', 'Siemens'].values[0]\n",
    "project_url1 = df.loc[df['Category'] == 'Project URL', 'Siemens'].values[0]\n",
    "project_url2 = df.loc[df['Category'] == 'Project URL', 'Bosch'].values[0]\n",
    "\n",
    "# Create a dictionary to store the data\n",
    "config_data = {\n",
    "    'apitoken': api_token,\n",
    "    'username': username,\n",
    "    'projecturl1': project_url1,\n",
    "    'projecturl2': project_url2\n",
    "}\n",
    "config_data"
   ]
  },
  {
   "cell_type": "code",
   "execution_count": 6,
   "metadata": {},
   "outputs": [
    {
     "name": "stdout",
     "output_type": "stream",
     "text": [
      "YAML file updated successfully.\n"
     ]
    }
   ],
   "source": [
    "# Load the existing YAML file\n",
    "yaml_file = \"config.yaml\"  # Replace with your YAML file path\n",
    "with open(yaml_file, 'r') as file:\n",
    "    yaml_content = yaml.safe_load(file)\n",
    "\n",
    "# Update the placeholders\n",
    "yaml_content['jira']['api_token'] = config_data['apitoken']\n",
    "yaml_content['jira']['credentials']['email'] = config_data['username']\n",
    "yaml_content['project1']['url'] = config_data['projecturl1']\n",
    "yaml_content['project2']['url'] = config_data['projecturl2']\n",
    "\n",
    "# Save the updated YAML back to the file\n",
    "with open(yaml_file, 'w') as file:\n",
    "    yaml.safe_dump(yaml_content, file)\n",
    "\n",
    "print(\"YAML file updated successfully.\")"
   ]
  }
 ],
 "metadata": {
  "kernelspec": {
   "display_name": "base",
   "language": "python",
   "name": "python3"
  },
  "language_info": {
   "codemirror_mode": {
    "name": "ipython",
    "version": 3
   },
   "file_extension": ".py",
   "mimetype": "text/x-python",
   "name": "python",
   "nbconvert_exporter": "python",
   "pygments_lexer": "ipython3",
   "version": "3.11.5"
  }
 },
 "nbformat": 4,
 "nbformat_minor": 2
}
