{
 "cells": [
  {
   "cell_type": "code",
   "execution_count": 8,
   "metadata": {
    "vscode": {
     "languageId": "markdown"
    }
   },
   "outputs": [
    {
     "name": "stdout",
     "output_type": "stream",
     "text": [
      "Updated sample-config.yaml with values from CSV.\n"
     ]
    },
    {
     "data": {
      "text/html": [
       "<div>\n",
       "<style scoped>\n",
       "    .dataframe tbody tr th:only-of-type {\n",
       "        vertical-align: middle;\n",
       "    }\n",
       "\n",
       "    .dataframe tbody tr th {\n",
       "        vertical-align: top;\n",
       "    }\n",
       "\n",
       "    .dataframe thead th {\n",
       "        text-align: right;\n",
       "    }\n",
       "</style>\n",
       "<table border=\"1\" class=\"dataframe\">\n",
       "  <thead>\n",
       "    <tr style=\"text-align: right;\">\n",
       "      <th></th>\n",
       "      <th>epiclink</th>\n",
       "      <th>epicname</th>\n",
       "      <th>epicstatus</th>\n",
       "      <th>project_keys</th>\n",
       "    </tr>\n",
       "  </thead>\n",
       "  <tbody>\n",
       "    <tr>\n",
       "      <th>0</th>\n",
       "      <td>customfield_10014</td>\n",
       "      <td>customfield_10011</td>\n",
       "      <td>customfield_10012</td>\n",
       "      <td>DESIGN</td>\n",
       "    </tr>\n",
       "  </tbody>\n",
       "</table>\n",
       "</div>"
      ],
      "text/plain": [
       "            epiclink           epicname         epicstatus project_keys\n",
       "0  customfield_10014  customfield_10011  customfield_10012       DESIGN"
      ]
     },
     "execution_count": 8,
     "metadata": {},
     "output_type": "execute_result"
    }
   ],
   "source": [
    "import pandas as pd\n",
    "import yaml\n",
    "df = pd.read_csv('./data/jira_data.csv')\n",
    "\n",
    "# Extract values from the DataFrame\n",
    "epiclink = df[\"epiclink\"].iloc[0]\n",
    "epicname = df[\"epicname\"].iloc[0]\n",
    "epicstatus = df[\"epicstatus\"].iloc[0]\n",
    "project_key = df[\"project_keys\"].iloc[0]\n",
    "\n",
    "# Load existing YAML template\n",
    "template_file = \"sample-config.yaml\"\n",
    "with open(template_file, \"r\") as file:\n",
    "    config = yaml.safe_load(file)\n",
    "# Update YAML values with variables from CSV\n",
    "config[\"serverfrom\"][\"customfields\"][\"epiclink\"] = epiclink\n",
    "config[\"serverfrom\"][\"customfields\"][\"epicname\"] = epicname\n",
    "config[\"serverfrom\"][\"customfields\"][\"epicstatus\"] = epicstatus\n",
    "config[\"serverfrom\"][\"projectkey\"] = project_key\n",
    "\n",
    "# Save updated YAML\n",
    "with open(template_file, \"w\") as file:\n",
    "    yaml.dump(config, file, default_flow_style=False)\n",
    "\n",
    "print(f\"Updated {template_file} with values from CSV.\")\n",
    "df.head()"
   ]
  }
 ],
 "metadata": {
  "kernelspec": {
   "display_name": "base",
   "language": "python",
   "name": "python3"
  },
  "language_info": {
   "codemirror_mode": {
    "name": "ipython",
    "version": 3
   },
   "file_extension": ".py",
   "mimetype": "text/x-python",
   "name": "python",
   "nbconvert_exporter": "python",
   "pygments_lexer": "ipython3",
   "version": "3.11.5"
  }
 },
 "nbformat": 4,
 "nbformat_minor": 2
}
